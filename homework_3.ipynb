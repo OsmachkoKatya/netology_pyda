{
 "cells": [
  {
   "cell_type": "markdown",
   "metadata": {},
   "source": [
    "# Домашнее задание"
   ]
  },
  {
   "cell_type": "markdown",
   "metadata": {},
   "source": [
    "### Задание 1."
   ]
  },
  {
   "cell_type": "code",
   "execution_count": 42,
   "metadata": {},
   "outputs": [
    {
     "data": {
      "text/plain": [
       "'yandex'"
      ]
     },
     "execution_count": 42,
     "metadata": {},
     "output_type": "execute_result"
    }
   ],
   "source": [
    "stats = {'facebook': 55, 'yandex': 120, 'vk': 115, 'google': 99, 'email': 42, 'ok': 98}\n",
    "\n",
    "i = [keys[0] for keys in sorted(stats.items(), key=lambda x: -x[1])]\n",
    "\n",
    "i[0]"
   ]
  },
  {
   "cell_type": "markdown",
   "metadata": {},
   "source": [
    "### Задание 2."
   ]
  },
  {
   "cell_type": "code",
   "execution_count": 93,
   "metadata": {},
   "outputs": [
    {
     "data": {
      "text/plain": [
       "{0: 5, 1: 1, 2: 1}"
      ]
     },
     "execution_count": 93,
     "metadata": {},
     "output_type": "execute_result"
    }
   ],
   "source": [
    "descriptions = [\n",
    "['браслет', 'xiaomi', 'mi', 'band', '2.', 'умный', 'браслет', 'xiaomi', 'mi', 'лидер', 'в', 'линейке', 'xiaomi.', 'фитнес', 'браслет', 'для', 'android', '4.4,', 'ios', '7,', 'экран', 'oled.', 'лучший', 'выбор', 'xiaomi'],\n",
    "['браслет', 'huawei', 'honor', 'band', '3.', 'фитнес', 'браслет', 'влагозащищенный', 'сенсорный', 'экран', 'android,', 'ios', 'мониторинг', 'сна'],\n",
    "['браслет', 'samsung', 'gear', 'fit2', 'pro.', 'влагозащищенный', 'сенсорный', 'amoled-экран', 'мониторинг', 'сна,', 'калорий,', 'новинка', 'samsung'],\n",
    "]\n",
    "\n",
    "c = 0\n",
    "wordscount = {}\n",
    "\n",
    "for note in descriptions:\n",
    "    \n",
    "    i = 0\n",
    "    u = 0\n",
    "    previousword = ''\n",
    "    \n",
    "    wordscount.setdefault(c, 0)        \n",
    "\n",
    "    for word in sorted(note):\n",
    "    \n",
    "        i += 1\n",
    "        \n",
    "        if word != previousword:\n",
    "        \n",
    "            u += 1\n",
    "            \n",
    "        previousword = word \n",
    "                \n",
    "    wordscount[c] = i - u\n",
    "    \n",
    "    c += 1\n",
    "        \n",
    "wordscount"
   ]
  },
  {
   "cell_type": "markdown",
   "metadata": {},
   "source": [
    "### Задание 3."
   ]
  },
  {
   "cell_type": "code",
   "execution_count": 121,
   "metadata": {},
   "outputs": [
    {
     "name": "stdout",
     "output_type": "stream",
     "text": [
      "Введите количество столбцов для поиска2\n",
      "Введите значение для 0 столбца22\n",
      "Введите значение для 1 столбца19918\n",
      "['4', '97675']\n"
     ]
    }
   ],
   "source": [
    "fieldscount = input('Введите количество столбцов для поиска')\n",
    "\n",
    "if fieldscount: \n",
    "\n",
    "    fieldscount = int(fieldscount)\n",
    "    \n",
    "    fiedsvalue = {}\n",
    "\n",
    "    for i in range(0, fieldscount):\n",
    "\n",
    "        fiedsvalue.setdefault(i,0)\n",
    "\n",
    "        v = (input(f'Введите значение для {i} столбца'))\n",
    "\n",
    "        fiedsvalue[i] = v\n",
    "\n",
    "    line_to_find = tuple(fiedsvalue.values())\n",
    "\n",
    "    stats_dict = {}\n",
    "\n",
    "    with open('stats.csv') as f:\n",
    "        for line in f:\n",
    "            line = line.strip().split(',')\n",
    "            stats_dict[tuple(line[:fieldscount])] = line[fieldscount:]\n",
    "            \n",
    "    try:\n",
    "\n",
    "        cost = stats_dict[line_to_find]\n",
    "        print(cost)\n",
    "\n",
    "    except:   \n",
    "\n",
    "        print('Значение не найдено')\n",
    "    \n",
    "else:\n",
    "\n",
    "    print('Не указаны параметры поиска')"
   ]
  }
 ],
 "metadata": {
  "kernelspec": {
   "display_name": "Python 3",
   "language": "python",
   "name": "python3"
  },
  "language_info": {
   "codemirror_mode": {
    "name": "ipython",
    "version": 3
   },
   "file_extension": ".py",
   "mimetype": "text/x-python",
   "name": "python",
   "nbconvert_exporter": "python",
   "pygments_lexer": "ipython3",
   "version": "3.7.3"
  }
 },
 "nbformat": 4,
 "nbformat_minor": 2
}
