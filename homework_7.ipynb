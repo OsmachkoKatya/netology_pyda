{
 "cells": [
  {
   "cell_type": "markdown",
   "metadata": {},
   "source": [
    "# Задание 1"
   ]
  },
  {
   "cell_type": "markdown",
   "metadata": {},
   "source": [
    "Напишите функцию date_range, которая возвращает список дней между датами start_date и end_date. Даты должны вводиться в формате YYYY-MM-DD."
   ]
  },
  {
   "cell_type": "markdown",
   "metadata": {},
   "source": [
    "### Решение"
   ]
  },
  {
   "cell_type": "code",
   "execution_count": 3,
   "metadata": {},
   "outputs": [],
   "source": [
    "from datetime import datetime"
   ]
  },
  {
   "cell_type": "code",
   "execution_count": 4,
   "metadata": {},
   "outputs": [],
   "source": [
    "from datetime import timedelta"
   ]
  },
  {
   "cell_type": "code",
   "execution_count": 11,
   "metadata": {},
   "outputs": [],
   "source": [
    "def date_range():\n",
    "\n",
    "    start_date = input('Введите начальную дату в формате YYYY-MM-DD: ')\n",
    "    end_date = input('Введите конечную дату в формате YYYY-MM-DD: ')\n",
    "    \n",
    "    start_date = datetime.strptime(start_date, '%Y-%m-%d')\n",
    "    end_date = datetime.strptime(end_date, '%Y-%m-%d')\n",
    "    \n",
    "    dates_list =[]\n",
    "    \n",
    "    while start_date < end_date - timedelta(days=1):\n",
    "        start_date += timedelta(days=1)\n",
    "        print(start_date)"
   ]
  },
  {
   "cell_type": "code",
   "execution_count": 12,
   "metadata": {},
   "outputs": [
    {
     "name": "stdout",
     "output_type": "stream",
     "text": [
      "Введите начальную дату в формате YYYY-MM-DD: 2019-10-10\n",
      "Введите конечную дату в формате YYYY-MM-DD: 2019-10-16\n",
      "2019-10-11 00:00:00\n",
      "2019-10-12 00:00:00\n",
      "2019-10-13 00:00:00\n",
      "2019-10-14 00:00:00\n",
      "2019-10-15 00:00:00\n"
     ]
    }
   ],
   "source": [
    "date_range()"
   ]
  },
  {
   "cell_type": "markdown",
   "metadata": {},
   "source": [
    "# Задание 2"
   ]
  },
  {
   "cell_type": "markdown",
   "metadata": {},
   "source": [
    "Дополните функцию из первого задания проверкой на корректность дат. В случае неверного формата или если start_date > end_date должен возвращаться пустой список."
   ]
  },
  {
   "cell_type": "markdown",
   "metadata": {},
   "source": [
    "### Решение"
   ]
  },
  {
   "cell_type": "code",
   "execution_count": 17,
   "metadata": {},
   "outputs": [],
   "source": [
    "def date_range():\n",
    "\n",
    "    start_date = input('Введите начальную дату в формате YYYY-MM-DD: ')\n",
    "    end_date = input('Введите конечную дату в формате YYYY-MM-DD: ')\n",
    "    \n",
    "    dates_list = []\n",
    "    \n",
    "    try:\n",
    "        start_date = datetime.strptime(start_date, '%Y-%m-%d')\n",
    "        end_date = datetime.strptime(end_date, '%Y-%m-%d')\n",
    "    \n",
    "        while start_date < end_date - timedelta(days=1):\n",
    "            start_date += timedelta(days=1)\n",
    "            dates_list.append(start_date)\n",
    "        \n",
    "        print(dates_list)\n",
    "        \n",
    "    except:\n",
    "        print(dates_list)\n",
    "        \n",
    "    "
   ]
  },
  {
   "cell_type": "code",
   "execution_count": 18,
   "metadata": {},
   "outputs": [
    {
     "name": "stdout",
     "output_type": "stream",
     "text": [
      "Введите начальную дату в формате YYYY-MM-DD: 2019-10-10\n",
      "Введите конечную дату в формате YYYY-MM-DD: 2019-1013\n",
      "[]\n"
     ]
    }
   ],
   "source": [
    "date_range()"
   ]
  },
  {
   "cell_type": "markdown",
   "metadata": {},
   "source": [
    "# Задание 3"
   ]
  },
  {
   "cell_type": "markdown",
   "metadata": {},
   "source": [
    "Дан поток дат в формате YYYY-MM-DD, в которых встречаются некорректные значения:\n",
    "stream = [‘2018-04-02’, ‘2018-02-29’, ‘2018-19-02’]\n",
    "\n",
    "Напишите функцию, которая проверяет эти даты на корректность. Т. е. для каждой даты возвращает True (дата корректна) или False (некорректная дата)."
   ]
  },
  {
   "cell_type": "markdown",
   "metadata": {},
   "source": [
    "### Решение"
   ]
  },
  {
   "cell_type": "code",
   "execution_count": 36,
   "metadata": {},
   "outputs": [],
   "source": [
    "stream = ['2018-04-02', '2018-02-29', '2018-19-02']\n",
    "\n",
    "def checking_dates(stream):\n",
    "    for date in stream:\n",
    "        try:\n",
    "            valid_date = datetime.strptime(date, '%Y-%m-%d')\n",
    "            print(date, True)\n",
    "        except:\n",
    "            print(date, False)"
   ]
  },
  {
   "cell_type": "code",
   "execution_count": 37,
   "metadata": {},
   "outputs": [
    {
     "name": "stdout",
     "output_type": "stream",
     "text": [
      "2018-04-02 True\n",
      "2018-02-29 False\n",
      "2018-19-02 False\n"
     ]
    }
   ],
   "source": [
    "checking_dates(stream)"
   ]
  },
  {
   "cell_type": "markdown",
   "metadata": {},
   "source": [
    "# Задание 4"
   ]
  },
  {
   "cell_type": "markdown",
   "metadata": {},
   "source": [
    "Ваш коллега прислал код функции:\n",
    "\n",
    "DEFAULT_USER_COUNT = 3\n",
    "\n",
    "def delete_and_return_last_user(region, default_list=[‘A100’, ‘A101’, ‘A102’]):\n",
    "\"\"“\n",
    "Удаляет из списка default_list последнего пользователя\n",
    "и возвращает ID нового последнего пользователя.\n",
    "”\"\"\n",
    "element_to_delete = default_list[-1]\n",
    "default_list.remove(element_to_delete)\n",
    "\n",
    "return default_list[DEFAULT_USER_COUNT-2]\n",
    "При однократном вызове этой функции все работает корректно:\n",
    "delete_and_return_last_user(1)\n",
    "‘A101’\n",
    "\n",
    "Однако, при повторном вызове получается ошибка IndexError: list index out of range.\n",
    "\n",
    "### Задание:\n",
    "\n",
    "Что значит ошибка list index out of range?\n",
    "Почему при первом запуске функция работает корректно, а при втором - нет?"
   ]
  },
  {
   "cell_type": "markdown",
   "metadata": {},
   "source": [
    "### Решение"
   ]
  },
  {
   "cell_type": "code",
   "execution_count": 74,
   "metadata": {},
   "outputs": [],
   "source": [
    "def delete_and_return_last_user(region, default_list=['A100', 'A101', 'A102']): \n",
    "    \n",
    "    \"\" 'Удаляет из списка default_list последнего пользователя и возвращает ID нового последнего пользователя.' \"\" \n",
    "    \n",
    "    DEFAULT_USER_COUNT = 3\n",
    "    element_to_delete = default_list[-1] \n",
    "    default_list.remove(element_to_delete)\n",
    "    \n",
    "    return default_list[DEFAULT_USER_COUNT-2]"
   ]
  },
  {
   "cell_type": "code",
   "execution_count": 75,
   "metadata": {},
   "outputs": [
    {
     "data": {
      "text/plain": [
       "'A101'"
      ]
     },
     "execution_count": 75,
     "metadata": {},
     "output_type": "execute_result"
    }
   ],
   "source": [
    "delete_and_return_last_user(1)"
   ]
  },
  {
   "cell_type": "markdown",
   "metadata": {},
   "source": [
    "list index out of range означает, что мы пытаемся вывести элемент, которого нет в списке.\n",
    "\n",
    "После вызова функции впервые в списке default_list остается два элемента (0 и 1), и как результат выводится 1 элемент (т.к. DEFAULT_USER_COUNT-2=1).\n",
    "\n",
    "После повторного вызова функции в списке default_list остается один элемент (0), но как результат нужно снова вывести 1 элемент (т.к. DEFAULT_USER_COUNT-2=1). \n",
    "\n",
    "1 элемента в списке нет, получается ошибка."
   ]
  }
 ],
 "metadata": {
  "kernelspec": {
   "display_name": "Python 3",
   "language": "python",
   "name": "python3"
  },
  "language_info": {
   "codemirror_mode": {
    "name": "ipython",
    "version": 3
   },
   "file_extension": ".py",
   "mimetype": "text/x-python",
   "name": "python",
   "nbconvert_exporter": "python",
   "pygments_lexer": "ipython3",
   "version": "3.7.3"
  }
 },
 "nbformat": 4,
 "nbformat_minor": 2
}
