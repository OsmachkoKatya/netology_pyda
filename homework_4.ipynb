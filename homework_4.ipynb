{
 "cells": [
  {
   "cell_type": "markdown",
   "metadata": {},
   "source": [
    "# Задание к лекции \"Функции\".\n",
    "Для зачета необходимо правильно выполнить 4 заданий из 6.  \n",
    "Для зачета с отличием – все 6."
   ]
  },
  {
   "cell_type": "markdown",
   "metadata": {},
   "source": [
    "## Задание 1"
   ]
  },
  {
   "cell_type": "markdown",
   "metadata": {},
   "source": [
    "Дан список вида:"
   ]
  },
  {
   "cell_type": "code",
   "execution_count": 1,
   "metadata": {},
   "outputs": [],
   "source": [
    "data = [\n",
    "    [13, 25, 23, 34],\n",
    "    [45, 32, 44, 47],\n",
    "    [12, 33, 23, 95],\n",
    "    [13, 53, 34, 35]\n",
    "]"
   ]
  },
  {
   "cell_type": "markdown",
   "metadata": {},
   "source": [
    "Напишите функцию, которая возвращает сумму элементов на диагонали. Т. е. 13+32+23+35.  \n",
    "Список может быть любой длины, но всегда является \"квадратным\" (количество элементов во вложенных списках равно их количеству)."
   ]
  },
  {
   "cell_type": "markdown",
   "metadata": {},
   "source": [
    "##### Решение:"
   ]
  },
  {
   "cell_type": "code",
   "execution_count": 2,
   "metadata": {},
   "outputs": [
    {
     "name": "stdout",
     "output_type": "stream",
     "text": [
      "103\n"
     ]
    }
   ],
   "source": [
    "def diagonal_sum (data):\n",
    "    \n",
    "    sum_ = 0\n",
    "    for line in enumerate(data):\n",
    "        i = line[0]\n",
    "        sum_ += line[1][i]\n",
    "    return sum_\n",
    "        \n",
    "print(diagonal_sum (data))"
   ]
  },
  {
   "cell_type": "markdown",
   "metadata": {},
   "source": [
    "## Задание 2"
   ]
  },
  {
   "cell_type": "markdown",
   "metadata": {},
   "source": [
    "Напишите функцию, возвращающую сумму первых n чисел Фибоначчи (для этого вам может понадобится ознакомиться с рекурсией)."
   ]
  },
  {
   "cell_type": "markdown",
   "metadata": {},
   "source": [
    "##### Решение:"
   ]
  },
  {
   "cell_type": "code",
   "execution_count": 3,
   "metadata": {},
   "outputs": [
    {
     "name": "stdout",
     "output_type": "stream",
     "text": [
      "88\n"
     ]
    }
   ],
   "source": [
    "def fibonacci_sum (n):\n",
    "\n",
    "    f_sum = []    \n",
    "    for i in range(0,n):               \n",
    "        f_sum.append(i) if i <= 1 else f_sum.append(f_sum[i-2] + f_sum[i-1])                 \n",
    "    return sum(f_sum)\n",
    "\n",
    "print(fibonacci_sum (10))"
   ]
  },
  {
   "cell_type": "markdown",
   "metadata": {},
   "source": [
    "## Задание 3"
   ]
  },
  {
   "cell_type": "code",
   "execution_count": 4,
   "metadata": {},
   "outputs": [],
   "source": [
    "cook_book = {\n",
    "  'салат': [\n",
    "     {'ingridient_name': 'сыр', 'quantity': 50, 'measure': 'гр'},\n",
    "     {'ingridient_name': 'томаты', 'quantity': 20, 'measure': 'гр'},\n",
    "     {'ingridient_name': 'огурцы', 'quantity': 20, 'measure': 'гр'},\n",
    "     {'ingridient_name': 'маслины', 'quantity': 10, 'measure': 'гр'},\n",
    "     {'ingridient_name': 'оливковое масло', 'quantity': 20, 'measure': 'мл'},\n",
    "     {'ingridient_name': 'салат', 'quantity': 10, 'measure': 'гр'},\n",
    "     {'ingridient_name': 'перец', 'quantity': 20, 'measure': 'гр'}\n",
    "    ],\n",
    "  'пицца': [\n",
    "     {'ingridient_name': 'сыр', 'quantity': 20, 'measure': 'гр'},\n",
    "     {'ingridient_name': 'колбаса', 'quantity': 30, 'measure': 'гр'},\n",
    "     {'ingridient_name': 'бекон', 'quantity': 30, 'measure': 'гр'},\n",
    "     {'ingridient_name': 'оливки', 'quantity': 10, 'measure': 'гр'},\n",
    "     {'ingridient_name': 'томаты', 'quantity': 20, 'measure': 'гр'},\n",
    "     {'ingridient_name': 'тесто', 'quantity': 100, 'measure': 'гр'},   \n",
    "    ],\n",
    "  'лимонад': [\n",
    "     {'ingridient_name': 'лимон', 'quantity': 1, 'measure': 'шт'},\n",
    "     {'ingridient_name': 'вода', 'quantity': 200, 'measure': 'мл'},\n",
    "     {'ingridient_name': 'сахар', 'quantity': 10, 'measure': 'гр'},\n",
    "     {'ingridient_name': 'лайм', 'quantity': 20, 'measure': 'гр'},    \n",
    "    ]\n",
    "}"
   ]
  },
  {
   "cell_type": "markdown",
   "metadata": {},
   "source": [
    "Напишите программу (она может состоять из нескольких функций), которая будет запрашивать у пользователя количество гостей и список блюд, которые будут подаваться каждому гостю. В результате программа должна выдавать список покупок, состоящий из ингредиентов, которые нужно купить в магазине (если ингредиенты повторяются, то их нужно записать одной строкой, а не отдельно).\n",
    "\n",
    "Пример:\n",
    "\n",
    "вызов\\_главной\\_функций()\n",
    "\n",
    "Введите количество гостей: 3  \n",
    "Введите блюда через пробел: пицца пицца лимонад\n",
    "\n",
    "Список покупок:  \n",
    "сыр 120 гр  \n",
    "колбаса 180 гр  \n",
    "бекон 180 гр  \n",
    "оливки 60 гр  \n",
    "томаты 120 гр  \n",
    "тесто 600 гр  \n",
    "лимон 3 шт  \n",
    "вода 600 мл  \n",
    "сахар 30 гр  \n",
    "лайм 60 гр  "
   ]
  },
  {
   "cell_type": "markdown",
   "metadata": {},
   "source": [
    "##### Решение:"
   ]
  },
  {
   "cell_type": "code",
   "execution_count": 5,
   "metadata": {},
   "outputs": [],
   "source": [
    "def get_dishes():\n",
    "    dishes = input('Введите блюда через пробел: ')\n",
    "    guests_count = input('Введите количество гостей: ')\n",
    "    \n",
    "    return dishes, int(guests_count)\n",
    "    \n",
    "def dishes_count_list ():\n",
    "    \n",
    "    dishes, guests_count = get_dishes()\n",
    "    dishes_list = {}\n",
    "    for dish in list(dishes.split(' ')):\n",
    "        dishes_list.setdefault(dish, 0)\n",
    "        dishes_list[dish] += 1\n",
    "     \n",
    "    guests_dishes_list = {}\n",
    "    for key, value in dishes_list.items():\n",
    "        guests_dishes_list.setdefault(key,value*int(guests_count))\n",
    "    \n",
    "    print('Список покупок:')\n",
    "    \n",
    "    shopping_list = []\n",
    "    for key, value in cook_book.items():    \n",
    "        if key in guests_dishes_list.keys():            \n",
    "            for ingridient in value:                \n",
    "                print(ingridient['ingridient_name'], ingridient['quantity']*guests_dishes_list[key], ingridient['measure'])"
   ]
  },
  {
   "cell_type": "code",
   "execution_count": 7,
   "metadata": {},
   "outputs": [
    {
     "name": "stdout",
     "output_type": "stream",
     "text": [
      "Введите блюда через пробел: пицца пицца лимонад\n",
      "Введите количество гостей: 3\n",
      "Список покупок:\n",
      "сыр 120 гр\n",
      "колбаса 180 гр\n",
      "бекон 180 гр\n",
      "оливки 60 гр\n",
      "томаты 120 гр\n",
      "тесто 600 гр\n",
      "лимон 3 шт\n",
      "вода 600 мл\n",
      "сахар 30 гр\n",
      "лайм 60 гр\n"
     ]
    }
   ],
   "source": [
    "dishes_count_list()"
   ]
  },
  {
   "cell_type": "markdown",
   "metadata": {},
   "source": [
    "## Задание 4"
   ]
  },
  {
   "cell_type": "markdown",
   "metadata": {},
   "source": [
    "Вы работаете секретарем и вам постоянно приходят различные документы. Вы должны быть очень внимательны, чтобы не потерять ни один документ. Каталог документов хранится в следующем виде:"
   ]
  },
  {
   "cell_type": "code",
   "execution_count": 8,
   "metadata": {},
   "outputs": [],
   "source": [
    "documents = [\n",
    "    {'type': 'passport', 'number': '2207 876234', 'name': 'Василий Гупкин'},\n",
    "    {'type': 'invoice', 'number': '11-2', 'name': 'Геннадий Покемонов'},\n",
    "    {'type': 'insurance', 'number': '10006', 'name': 'Аристарх Павлов'}\n",
    "]"
   ]
  },
  {
   "cell_type": "markdown",
   "metadata": {},
   "source": [
    "Перечень полок, на которых находятся документы хранится в следующем виде:"
   ]
  },
  {
   "cell_type": "code",
   "execution_count": 9,
   "metadata": {},
   "outputs": [],
   "source": [
    "directories = {\n",
    "    '1': ['2207 876234', '11-2', '5455 028765'],\n",
    "    '2': ['10006', '5400 028765', '5455 002299'],\n",
    "    '3': []\n",
    "}"
   ]
  },
  {
   "cell_type": "markdown",
   "metadata": {},
   "source": [
    "Необходимо реализовать пользовательские команды (внимание! это не название функций, которые должны быть выразительными, а команды, которые вводит пользователь, чтобы получить необходимый результат):\n",
    "  \n",
    "- p – people – команда, которая спросит номер документа и выведет имя человека, которому он принадлежит;  \n",
    "- s – shelf – команда, которая спросит номер документа и выведет номер полки, на которой он находится  \n",
    "Правильно обработайте ситуацию, когда пользователь будет вводить несуществующий документ."
   ]
  },
  {
   "cell_type": "markdown",
   "metadata": {},
   "source": [
    "##### Решение:"
   ]
  },
  {
   "cell_type": "code",
   "execution_count": 11,
   "metadata": {},
   "outputs": [],
   "source": [
    "def people ():\n",
    "    \n",
    "    name = 'Документ не найден'\n",
    "    doc_number = input('Введите номер документа: ')\n",
    "    for doc in documents:\n",
    "        if doc['number'] == doc_number:\n",
    "            name = doc['name']\n",
    "    print(name)"
   ]
  },
  {
   "cell_type": "code",
   "execution_count": 12,
   "metadata": {},
   "outputs": [],
   "source": [
    "def shelf ():\n",
    "    shelf_number = 'Документ не найден'\n",
    "    doc_number = input('Введите номер документа: ')\n",
    "    for key, value in directories.items():\n",
    "        if doc_number in value:\n",
    "            shelf_number = key\n",
    "    print(shelf_number)"
   ]
  },
  {
   "cell_type": "markdown",
   "metadata": {},
   "source": [
    "## Задание 5"
   ]
  },
  {
   "cell_type": "markdown",
   "metadata": {},
   "source": [
    "К условию из задания 5 реализуйте следующие команды:\n",
    "  \n",
    "- l – list – команда, которая выведет список всех документов в формате   \n",
    "**passport \"2207 876234\" \"Василий Гупкин\"**  \n",
    "- as – add shelf – команда, которая спросит номер новой полки и добавит ее в перечень"
   ]
  },
  {
   "cell_type": "markdown",
   "metadata": {},
   "source": [
    "##### Решение:"
   ]
  },
  {
   "cell_type": "code",
   "execution_count": 13,
   "metadata": {},
   "outputs": [],
   "source": [
    "def list_ ():\n",
    "    for document in documents:\n",
    "        print(document['type'], ' \"', document['number'], '\" \"', document['name'], '\"', sep='')"
   ]
  },
  {
   "cell_type": "code",
   "execution_count": 14,
   "metadata": {},
   "outputs": [],
   "source": [
    "def add_shelf ():\n",
    "\n",
    "    new_shelf = input('Введите номер новой полки: ')        \n",
    "    directories.setdefault(new_shelf, [])\n",
    "        \n",
    "    print(f'Полка номер {new_shelf} добавлена')  "
   ]
  },
  {
   "cell_type": "markdown",
   "metadata": {},
   "source": [
    "## Задание 6"
   ]
  },
  {
   "cell_type": "markdown",
   "metadata": {},
   "source": [
    "К условию из задания 5 реализуйте следующие команды:  \n",
    "  \n",
    "- d – delete – команда, которая спросит номер документа и удалит его из каталога и из перечня полок. Предусмотрите сценарий, когда пользователь вводит несуществующий документ;  \n",
    "- m – move – команда, которая спросит номер документа и целевую полку и переместит его с текущей полки на целевую. Корректно обработайте кейсы, когда пользователь пытается переместить несуществующий документ или переместить документ на несуществующую полку;  \n",
    "- a – add – команда, которая добавит новый документ в каталог и в перечень полок, спросив его номер, тип, имя владельца и номер полки, на котором он будет храниться."
   ]
  },
  {
   "cell_type": "markdown",
   "metadata": {},
   "source": [
    "##### Решение:"
   ]
  },
  {
   "cell_type": "code",
   "execution_count": 15,
   "metadata": {},
   "outputs": [],
   "source": [
    "def delete ():\n",
    "\n",
    "    doc_message = 'Документ не найден в каталоге'\n",
    "    dir_message = 'Документ не найден на полке'\n",
    "    doc_number = input('Введите номер документа: ')\n",
    "\n",
    "    for doc in documents:\n",
    "        if doc['number'] == doc_number:\n",
    "            documents.remove(doc)\n",
    "            doc_message = 'Документ удален из каталога'\n",
    "            \n",
    "    for key, value in directories.items():\n",
    "        if doc_number in value:\n",
    "            value.remove(doc_number)\n",
    "            dir_message = 'Документ удален с полки'\n",
    "    \n",
    "    print(doc_message, ';', dir_message)"
   ]
  },
  {
   "cell_type": "code",
   "execution_count": 16,
   "metadata": {},
   "outputs": [],
   "source": [
    "def move ():\n",
    "\n",
    "    is_doc = 0\n",
    "    is_shelf = 0\n",
    "    \n",
    "    doc_number = input('Введите номер документа: ')\n",
    "    shelf_number = input('Введите номер целевой полки: ')\n",
    "    \n",
    "    for key, value in directories.items():\n",
    "        if doc_number in value:\n",
    "            is_doc = 1 \n",
    "    for key, value in directories.items():        \n",
    "        if shelf_number == key:       \n",
    "            is_shelf = 1 \n",
    "            \n",
    "    if is_doc == 0:       \n",
    "        print ('Документ не найден')\n",
    "    elif is_shelf == 0:\n",
    "        print ('Целевая полка не найдена')\n",
    "    else:\n",
    "        for key, value in directories.items():\n",
    "            if doc_number in value:\n",
    "                value.remove(doc_number)            \n",
    "            \n",
    "        for key, value in directories.items():        \n",
    "            if shelf_number == key:\n",
    "                value.append(doc_number)\n",
    "    \n",
    "        print (f'Документ № {doc_number} перемещен на полку {shelf_number}')"
   ]
  },
  {
   "cell_type": "code",
   "execution_count": 29,
   "metadata": {},
   "outputs": [],
   "source": [
    "def add ():\n",
    "    \n",
    "    is_shelf = 0\n",
    "    \n",
    "    doc_type = input('Введите тип документа: ')\n",
    "    name = input('Введите имя владельца документа: ')\n",
    "    doc_number = input('Введите номер документа: ')\n",
    "    shelf_number = input('Введите номер целевой полки: ')\n",
    "        \n",
    "    for key, value in directories.items():        \n",
    "            if shelf_number == key:\n",
    "                is_shelf = 1\n",
    "    \n",
    "    if is_shelf == 0:\n",
    "        \n",
    "        print ('Целевая полка не найдена')\n",
    "        \n",
    "    else:\n",
    "        \n",
    "        documents.append({'type':doc_type,'number':doc_number,'name':name}) \n",
    "        \n",
    "        for key, value in directories.items():        \n",
    "            if shelf_number == key:\n",
    "                value.append(doc_number)\n",
    "                \n",
    "        print ('Документ довавлен в каталог и перечень полок')"
   ]
  },
  {
   "cell_type": "code",
   "execution_count": 30,
   "metadata": {},
   "outputs": [
    {
     "name": "stdout",
     "output_type": "stream",
     "text": [
      "Введите команду: a\n",
      "Введите тип документа: invoice\n",
      "Введите имя владельца документа: Георгий Петров\n",
      "Введите номер документа: 11-6\n",
      "Введите номер целевой полки: 4\n",
      "Документ довавлен в каталог и перечень полок\n"
     ]
    }
   ],
   "source": [
    "command = input ('Введите команду: ')\n",
    "\n",
    "if command == 'p':\n",
    "    people ()\n",
    "elif command == 's':\n",
    "    shelf ()\n",
    "elif command == 'l':\n",
    "    list_ ()\n",
    "elif command == 'as':\n",
    "    add_shelf ()\n",
    "elif command == 'd':\n",
    "    delete ()\n",
    "elif command == 'm':\n",
    "    move ()\n",
    "elif command == 'a':\n",
    "    add ()"
   ]
  },
  {
   "cell_type": "code",
   "execution_count": 31,
   "metadata": {},
   "outputs": [
    {
     "data": {
      "text/plain": [
       "{'1': ['2207 876234', '5455 028765'],\n",
       " '2': ['5400 028765', '5455 002299'],\n",
       " '3': ['10006'],\n",
       " '4': ['11-6']}"
      ]
     },
     "execution_count": 31,
     "metadata": {},
     "output_type": "execute_result"
    }
   ],
   "source": [
    "directories"
   ]
  },
  {
   "cell_type": "code",
   "execution_count": 26,
   "metadata": {},
   "outputs": [
    {
     "data": {
      "text/plain": [
       "[{'type': 'passport', 'number': '2207 876234', 'name': 'Василий Гупкин'},\n",
       " {'type': 'insurance', 'number': '10006', 'name': 'Аристарх Павлов'}]"
      ]
     },
     "execution_count": 26,
     "metadata": {},
     "output_type": "execute_result"
    }
   ],
   "source": [
    "documents"
   ]
  }
 ],
 "metadata": {
  "kernelspec": {
   "display_name": "Python 3",
   "language": "python",
   "name": "python3"
  },
  "language_info": {
   "codemirror_mode": {
    "name": "ipython",
    "version": 3
   },
   "file_extension": ".py",
   "mimetype": "text/x-python",
   "name": "python",
   "nbconvert_exporter": "python",
   "pygments_lexer": "ipython3",
   "version": "3.7.3"
  }
 },
 "nbformat": 4,
 "nbformat_minor": 2
}
