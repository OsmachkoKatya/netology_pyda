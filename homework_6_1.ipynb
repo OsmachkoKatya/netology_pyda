{
 "cells": [
  {
   "cell_type": "markdown",
   "metadata": {},
   "source": [
    "# Домашнее задание к лекции \"Регулярные выражения\"\n",
    "Для зачета необходимо выполнить 4 задания.  \n",
    "Для зачета с отличием – все."
   ]
  },
  {
   "cell_type": "markdown",
   "metadata": {},
   "source": [
    "## Задание 1"
   ]
  },
  {
   "cell_type": "markdown",
   "metadata": {},
   "source": [
    "Напишите функцию, которая принимает на вход строку и проверяет является ли она валидным транспортным номером. Если да, то функция должна возвращать отдельно номер и регион."
   ]
  },
  {
   "cell_type": "markdown",
   "metadata": {},
   "source": [
    "### Решение"
   ]
  },
  {
   "cell_type": "code",
   "execution_count": 3,
   "metadata": {},
   "outputs": [],
   "source": [
    "import re"
   ]
  },
  {
   "cell_type": "code",
   "execution_count": 90,
   "metadata": {},
   "outputs": [],
   "source": [
    "def checking_vehicle_reg_number():\n",
    "\n",
    "    reg_number = input('Введите транспортный номер: ')\n",
    "    regex_reg_number = '([АВЕКМНОРСТУХ]\\d{3}[АВЕКМНОРСТУХ]{2})([\\d]+)'\n",
    "    \n",
    "    result_reg_number = re.findall(regex_reg_number, reg_number.upper(), re.I)\n",
    "    \n",
    "    if result_reg_number and len(reg_number)>=8 and len(reg_number)<=9:\n",
    "        \n",
    "        print(f'Транспортный номер {result_reg_number} валиден')\n",
    "        \n",
    "    else:\n",
    "        \n",
    "        print(f'Транспортный номер {result_reg_number} не валиден')"
   ]
  },
  {
   "cell_type": "code",
   "execution_count": 91,
   "metadata": {},
   "outputs": [
    {
     "name": "stdout",
     "output_type": "stream",
     "text": [
      "Введите транспортный номер: а456ав6\n",
      "Транспортный номер [('А456АВ', '6')] не валиден\n"
     ]
    }
   ],
   "source": [
    "checking_vehicle_reg_number()"
   ]
  },
  {
   "cell_type": "markdown",
   "metadata": {},
   "source": [
    "## Задание 2"
   ]
  },
  {
   "cell_type": "markdown",
   "metadata": {},
   "source": [
    "Напишите функцию, которая проверяет e-mail адрес на валидность по стандарту RFC822: http://www.w3.org/Protocols/rfc822/. Для этого постарайтесь написать (в крайнем случае найти) самый полный шаблон для проверки e-mail адресов через регулярное выражение. Разберитесь и напишите примеры, какие ваш шаблон может не охватить."
   ]
  },
  {
   "cell_type": "markdown",
   "metadata": {},
   "source": [
    "## Задание 3\n",
    "При помощи регулярных выражений напишите функцию, которая будет возвращать акроним переданного в нее текста."
   ]
  },
  {
   "cell_type": "markdown",
   "metadata": {},
   "source": [
    "### Решение"
   ]
  },
  {
   "cell_type": "code",
   "execution_count": 92,
   "metadata": {},
   "outputs": [],
   "source": [
    "def acronym():\n",
    "\n",
    "    text = input('Введите текст: ')\n",
    "\n",
    "    regex_text = '[\\w]+'\n",
    "\n",
    "    acronym = ''\n",
    "    \n",
    "    text_list = re.findall(regex_text, text.upper(), re.I)\n",
    "    \n",
    "    if text_list:\n",
    "        for word in text_list:\n",
    "            acronym = acronym+word[0]\n",
    "    print(acronym)"
   ]
  },
  {
   "cell_type": "code",
   "execution_count": 93,
   "metadata": {},
   "outputs": [
    {
     "name": "stdout",
     "output_type": "stream",
     "text": [
      "Введите текст: Выставка достижений народного хозяйства\n",
      "ВДНХ\n"
     ]
    }
   ],
   "source": [
    "acronym()"
   ]
  },
  {
   "cell_type": "markdown",
   "metadata": {},
   "source": [
    "## Задание 4\n",
    "Напишите функцию, которая будет удалять все последовательные повторы слов из заданной строки."
   ]
  },
  {
   "cell_type": "markdown",
   "metadata": {},
   "source": [
    "### Решение"
   ]
  },
  {
   "cell_type": "code",
   "execution_count": 149,
   "metadata": {},
   "outputs": [],
   "source": [
    "def duplicate_removal():\n",
    "\n",
    "    text = input('Введите текст: ')\n",
    "\n",
    "    regex_text = r'([\\w]+)(\\s\\1){1,100}'\n",
    "    \n",
    "    result_test = re.sub(regex_text, r'\\1', text)\n",
    "\n",
    "    print(result_test)\n"
   ]
  },
  {
   "cell_type": "code",
   "execution_count": 150,
   "metadata": {},
   "outputs": [
    {
     "name": "stdout",
     "output_type": "stream",
     "text": [
      "Введите текст: гамма гамма каппа каппа каппа каппа дельта\n",
      "гамма каппа дельта\n"
     ]
    }
   ],
   "source": [
    "duplicate_removal()"
   ]
  },
  {
   "cell_type": "markdown",
   "metadata": {},
   "source": [
    "## Задание 5\n",
    "Напишите функцию, которая будет проверять номер сотового телефона на валидность, если он валиден, то переводить его в формат:   \n",
    "+7(xxx)-xxx-xx-xx  \n",
    "Постарайтесь предусмотреть как можно больше адекватных форматов изначального ввода номера.\n",
    "Примеры правильных и неправильных форматов:\n",
    "- +1 555 555-55-55;\n",
    "- 5555555555;\n",
    "- 555555555;\n",
    "- 8(555)555-55-55;\n",
    "- +7 555 555 55 55;\n",
    "- 7(555) 555-55-55;\n",
    "- +7 555+555+55+55."
   ]
  },
  {
   "cell_type": "markdown",
   "metadata": {},
   "source": [
    "### Решение"
   ]
  },
  {
   "cell_type": "code",
   "execution_count": 5,
   "metadata": {},
   "outputs": [],
   "source": [
    "def checking_phone():\n",
    "        \n",
    "        i = 0\n",
    "        phone_number = input('Введите номер телефона: ')\n",
    "        \n",
    "        regex_phone_number = [r'\\+(\\d)\\s(\\d{3})\\s(\\d{3})\\-(\\d{2})\\-(\\d{2})', r'(\\d{0,1})(\\d{3})(\\d{3})(\\d{2})(\\d{2})', r'(\\d)\\((\\d{3})\\)(\\d{3})\\-(\\d{2})\\-(\\d{2})', r'\\+(\\d)\\s(\\d{3})\\s(\\d{3})\\s(\\d{2})\\s(\\d{2})', r'(\\d)\\((\\d{3})\\)\\s(\\d{3})\\-(\\d{2})\\-(\\d{2})', r'\\+(\\d)\\s(\\d{3})\\+(\\d{3})\\+(\\d{2})\\+(\\d{2})']\n",
    "\n",
    "        for num in regex_phone_number:\n",
    "        \n",
    "            find_number = re.findall(num, phone_number)\n",
    "            valid_number = re.sub(num, r'+7(\\2)-\\3-\\4-\\5', phone_number)\n",
    "        \n",
    "            if find_number:\n",
    "                i += 1\n",
    "                print(valid_number)\n",
    "                \n",
    "        if i == 0: print('Не валиден')"
   ]
  },
  {
   "cell_type": "code",
   "execution_count": 7,
   "metadata": {},
   "outputs": [
    {
     "name": "stdout",
     "output_type": "stream",
     "text": [
      "Введите номер телефона: 5555555555\n",
      "+7(555)-555-55-55\n"
     ]
    }
   ],
   "source": [
    "checking_phone()"
   ]
  },
  {
   "cell_type": "code",
   "execution_count": 8,
   "metadata": {},
   "outputs": [
    {
     "name": "stdout",
     "output_type": "stream",
     "text": [
      "Введите номер телефона: 8(555)555-55-55\n",
      "+7(555)-555-55-55\n"
     ]
    }
   ],
   "source": [
    "checking_phone()"
   ]
  },
  {
   "cell_type": "code",
   "execution_count": 9,
   "metadata": {},
   "outputs": [
    {
     "name": "stdout",
     "output_type": "stream",
     "text": [
      "Введите номер телефона: +1 555 555-55-55\n",
      "+7(555)-555-55-55\n"
     ]
    }
   ],
   "source": [
    "checking_phone()"
   ]
  },
  {
   "cell_type": "code",
   "execution_count": 10,
   "metadata": {},
   "outputs": [
    {
     "name": "stdout",
     "output_type": "stream",
     "text": [
      "Введите номер телефона: +7 555 555 55 55\n",
      "+7(555)-555-55-55\n"
     ]
    }
   ],
   "source": [
    "checking_phone()"
   ]
  },
  {
   "cell_type": "code",
   "execution_count": 11,
   "metadata": {},
   "outputs": [
    {
     "name": "stdout",
     "output_type": "stream",
     "text": [
      "Введите номер телефона: 7(555) 555-55-55\n",
      "+7(555)-555-55-55\n"
     ]
    }
   ],
   "source": [
    "checking_phone()"
   ]
  },
  {
   "cell_type": "code",
   "execution_count": 12,
   "metadata": {},
   "outputs": [
    {
     "name": "stdout",
     "output_type": "stream",
     "text": [
      "Введите номер телефона: +7 555+555+55+55\n",
      "+7(555)-555-55-55\n"
     ]
    }
   ],
   "source": [
    "checking_phone()"
   ]
  },
  {
   "cell_type": "code",
   "execution_count": 13,
   "metadata": {},
   "outputs": [
    {
     "name": "stdout",
     "output_type": "stream",
     "text": [
      "Введите номер телефона: 555555555\n",
      "Не валиден\n"
     ]
    }
   ],
   "source": [
    "checking_phone()"
   ]
  }
 ],
 "metadata": {
  "kernelspec": {
   "display_name": "Python 3",
   "language": "python",
   "name": "python3"
  },
  "language_info": {
   "codemirror_mode": {
    "name": "ipython",
    "version": 3
   },
   "file_extension": ".py",
   "mimetype": "text/x-python",
   "name": "python",
   "nbconvert_exporter": "python",
   "pygments_lexer": "ipython3",
   "version": "3.7.3"
  }
 },
 "nbformat": 4,
 "nbformat_minor": 2
}
