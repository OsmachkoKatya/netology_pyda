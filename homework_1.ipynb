{
 "cells": [
  {
   "cell_type": "markdown",
   "metadata": {},
   "source": [
    "# Домашнее задание"
   ]
  },
  {
   "cell_type": "markdown",
   "metadata": {},
   "source": [
    "### Задание 1."
   ]
  },
  {
   "cell_type": "code",
   "execution_count": 4,
   "metadata": {},
   "outputs": [],
   "source": [
    "long_phrase = 'Насколько проще было бы писать программы, если бы не заказчики'\n",
    "short_phrase = '640Кб должно хватить для любых задач. Билл Гейтс (по легенде)'"
   ]
  },
  {
   "cell_type": "code",
   "execution_count": 5,
   "metadata": {},
   "outputs": [
    {
     "data": {
      "text/plain": [
       "False"
      ]
     },
     "execution_count": 5,
     "metadata": {},
     "output_type": "execute_result"
    }
   ],
   "source": [
    "len(long_phrase) > len(long_phrase)"
   ]
  },
  {
   "cell_type": "markdown",
   "metadata": {},
   "source": [
    "### Задание 2."
   ]
  },
  {
   "cell_type": "code",
   "execution_count": 22,
   "metadata": {},
   "outputs": [
    {
     "name": "stdout",
     "output_type": "stream",
     "text": [
      "Введите объем файла в байтах5613155\n",
      "Объем файла равен 5.613155 Mb\n"
     ]
    }
   ],
   "source": [
    "file_size_in_bytes = int(input('Введите объем файла в байтах'))\n",
    "\n",
    "file_size_in_megabytes = file_size_in_bytes/1000000\n",
    "\n",
    "print('Объем файла равен', file_size_in_megabytes, 'Mb')"
   ]
  },
  {
   "cell_type": "markdown",
   "metadata": {},
   "source": [
    "### Задание 3."
   ]
  },
  {
   "cell_type": "code",
   "execution_count": 2,
   "metadata": {},
   "outputs": [
    {
     "name": "stdout",
     "output_type": "stream",
     "text": [
      "Введите месяцянв\n",
      "Введите число20\n",
      "Козерог\n"
     ]
    }
   ],
   "source": [
    "month = input('Введите месяц')\n",
    "day = int(input('Введите число'))\n",
    "\n",
    "if month in ['Март', 'март', 'Мар', 'мар', '03', '3']:\n",
    "    if day >= 21:\n",
    "        print('Овен')\n",
    "    else:\n",
    "        print('Рыбы')\n",
    "elif month in ['Апрель', 'апрель', 'Апр', 'апр', '04', '4']:\n",
    "    if day >= 21:\n",
    "        print('Телец')\n",
    "    else:\n",
    "        print('Овен')\n",
    "elif month in ['Май', 'май', '05', '5']:\n",
    "    if day >= 21:\n",
    "        print('Близнецы')\n",
    "    else:\n",
    "        print('Телец')\n",
    "elif month in ['Июнь', 'июнь', 'Июн', 'июн', '06', '6']:\n",
    "    if day >= 22:\n",
    "        print('Рак')\n",
    "    else:\n",
    "        print('Близнецы')\n",
    "elif month in ['Июль', 'июль', 'Июл', 'июл', '07', '7']:\n",
    "    if day >= 23:\n",
    "        print('Лев')\n",
    "    else:\n",
    "        print('Рак')\n",
    "elif month in ['Август', 'август', 'Авг', 'авг', '08', '8']:\n",
    "    if day >= 24:\n",
    "        print('Дева')\n",
    "    else:\n",
    "        print('Лев')\n",
    "elif month in ['Сентябрь', 'сентябрь', 'Сен', 'сен', '09', '9']:\n",
    "    if day >= 24:\n",
    "        print('Весы')\n",
    "    else:\n",
    "        print('Дева')\n",
    "elif month in ['Октябрь', 'октябрь', 'Окт', 'окт', '10']:\n",
    "    if day >= 24:\n",
    "        print('Скорпион')\n",
    "    else:\n",
    "        print('Весы')\n",
    "elif month in ['Ноябрь', 'ноябрь', 'Ноя', 'ноя', '11']:\n",
    "    if day >= 23:\n",
    "        print('Стрелец')\n",
    "    else:\n",
    "        print('Скорпион')\n",
    "elif month in ['Декабрь', 'декабрь', 'Дек', 'дек', '12']:\n",
    "    if day >= 22:\n",
    "        print('Козерог')\n",
    "    else:\n",
    "        print('Стрелец')\n",
    "elif month in ['Январь', 'январь', 'Янв', 'янв', '01', '1']:\n",
    "    if day >= 21:\n",
    "        print('Водолей')\n",
    "    else:\n",
    "        print('Козерог')\n",
    "elif month in ['Февраль', 'февраль', 'Фев', 'фев', '02', '2']:\n",
    "    if day >= 21:\n",
    "        print('Рыбы')\n",
    "    else:\n",
    "        print('Водолей')\n",
    "else:\n",
    "    print('Ошибка')"
   ]
  },
  {
   "cell_type": "markdown",
   "metadata": {},
   "source": [
    "### Задание 4."
   ]
  },
  {
   "cell_type": "code",
   "execution_count": 26,
   "metadata": {},
   "outputs": [
    {
     "name": "stdout",
     "output_type": "stream",
     "text": [
      "Введите заработанную плату в месяц100000\n",
      "Введите сколько процентов уходит на ипотеку30\n",
      "Введите сколько процентов уходит на жизнь50\n",
      "Введите количество премий за год2\n",
      "На ипотеку было потрачено: 360000 рублей\n",
      "Было накоплено: 340000 рублей\n"
     ]
    }
   ],
   "source": [
    "salary = int(input('Введите заработанную плату в месяц'))\n",
    "on_a_mortgage = int(input('Введите сколько процентов уходит на ипотеку'))\n",
    "for_life = int(input('Введите сколько процентов уходит на жизнь'))\n",
    "number_of_premiums = int(input('Введите количество премий за год'))\n",
    "\n",
    "mortgage = int(salary/100*on_a_mortgage*12)\n",
    "accumulation = int(salary/100*(100-(on_a_mortgage+for_life))*12 + salary*number_of_premiums/2)\n",
    "\n",
    "print('На ипотеку было потрачено:', mortgage, 'рублей')\n",
    "print('Было накоплено:', accumulation, 'рублей')"
   ]
  },
  {
   "cell_type": "markdown",
   "metadata": {},
   "source": [
    "# Задание дополнительное"
   ]
  },
  {
   "cell_type": "markdown",
   "metadata": {},
   "source": [
    "### Задание 1."
   ]
  },
  {
   "cell_type": "code",
   "execution_count": 40,
   "metadata": {},
   "outputs": [
    {
     "name": "stdout",
     "output_type": "stream",
     "text": [
      "1\n",
      "2\n",
      "fizz\n",
      "4\n",
      "buzz\n",
      "fizz\n",
      "7\n",
      "8\n",
      "fizz\n",
      "buzz\n",
      "11\n",
      "fizz\n",
      "13\n",
      "14\n",
      "fizz buzz\n",
      "16\n",
      "17\n",
      "fizz\n",
      "19\n",
      "buzz\n"
     ]
    }
   ],
   "source": [
    "i = 1\n",
    "\n",
    "while i <= 20:\n",
    "\n",
    "    if i % 3 == 0: \n",
    "        if i % 5 == 0:\n",
    "            print('fizz buzz')\n",
    "        else:\n",
    "            print('fizz')\n",
    "    elif i % 5 == 0:\n",
    "        print('buzz')\n",
    "    else: \n",
    "        print(i)\n",
    "        \n",
    "    i = i + 1\n",
    "    "
   ]
  },
  {
   "cell_type": "markdown",
   "metadata": {},
   "source": [
    "### Задание 2."
   ]
  },
  {
   "cell_type": "code",
   "execution_count": 76,
   "metadata": {},
   "outputs": [
    {
     "name": "stdout",
     "output_type": "stream",
     "text": [
      "Периодичность сигнала = 4\n"
     ]
    }
   ],
   "source": [
    "s = '1011101110111011101110111011101110111011'\n",
    "\n",
    "s_len = len(s)\n",
    "m_max = int(s_len/3)\n",
    "m_min = int(s_len/1000)\n",
    "\n",
    "i = 0\n",
    "m = m_min + 1\n",
    "n = m\n",
    "\n",
    "while m+n <= s_len:\n",
    "    \n",
    "    if s[i:m] == s[m:m+n]: \n",
    "\n",
    "        m = m + n\n",
    "        i = i + n\n",
    "        \n",
    "#        print('m =', m, 'i =', i, 'n =', n)\n",
    "\n",
    "    else:\n",
    "        \n",
    "        n = n + 1\n",
    "        i = 0\n",
    "        m = m_min + n\n",
    "    \n",
    "#        print('m =', m, 'i =', i, 'n =', n)\n",
    "\n",
    "print('Периодичность сигнала =', n)        \n",
    "    "
   ]
  },
  {
   "cell_type": "markdown",
   "metadata": {},
   "source": [
    " ### Задание 3."
   ]
  },
  {
   "cell_type": "code",
   "execution_count": 91,
   "metadata": {},
   "outputs": [
    {
     "name": "stdout",
     "output_type": "stream",
     "text": [
      "Введите слово из латинских буквtesting\n",
      "t\n"
     ]
    }
   ],
   "source": [
    "word = input('Введите слово из латинских букв')\n",
    "\n",
    "word_len = len(word)\n",
    "half_word_len = int(word_len/2)\n",
    "\n",
    "if word_len % 2 == 0:\n",
    "    \n",
    "    print(word[half_word_len-1:half_word_len+1])\n",
    "    \n",
    "else:\n",
    "    \n",
    "    print(word[half_word_len])\n",
    "    "
   ]
  }
 ],
 "metadata": {
  "kernelspec": {
   "display_name": "Python 3",
   "language": "python",
   "name": "python3"
  },
  "language_info": {
   "codemirror_mode": {
    "name": "ipython",
    "version": 3
   },
   "file_extension": ".py",
   "mimetype": "text/x-python",
   "name": "python",
   "nbconvert_exporter": "python",
   "pygments_lexer": "ipython3",
   "version": "3.7.3"
  }
 },
 "nbformat": 4,
 "nbformat_minor": 2
}
