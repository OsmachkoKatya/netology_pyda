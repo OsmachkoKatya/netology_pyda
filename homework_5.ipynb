{
 "cells": [
  {
   "cell_type": "markdown",
   "metadata": {},
   "source": [
    "# Домашнее задание\n",
    "1. Переведите содержимое файла purchase_log.txt в словарь purchases вида:\n",
    "```python\n",
    "{'1840e0b9d4': 'Продукты', ...}\n",
    "```\n",
    "\n",
    "2. Для каждого user_id в файле visit_log.csv добавьте третий столбец с категорией покупки (если покупка была).\n",
    "\n",
    "3. Запишите в файл funnel.csv визиты из файла visit_log.csv, в которых были покупки с указанием категории.\n",
    "\n",
    "Учтите условия на данные:\n",
    "- содержимое purchase_log.txt помещается в оперативную память компьютера\n",
    "- содержимое visit_log.csv - нет; используйте только построчную обработку этого файла"
   ]
  },
  {
   "cell_type": "markdown",
   "metadata": {},
   "source": [
    "## Решение\n"
   ]
  },
  {
   "cell_type": "code",
   "execution_count": 42,
   "metadata": {},
   "outputs": [],
   "source": [
    "purchases = {}\n",
    "i = 0\n",
    "with codecs.open('purchase_log.txt', 'r', \"utf_8_sig\") as f:\n",
    "    for line in f:\n",
    "        \n",
    "        if i == 0:\n",
    "            next(f)\n",
    "            i +=1\n",
    "            \n",
    "        else:    \n",
    "            line = json.loads(line.strip())        \n",
    "            purchases.setdefault(line['user_id'], line['category'])"
   ]
  },
  {
   "cell_type": "code",
   "execution_count": 44,
   "metadata": {},
   "outputs": [],
   "source": [
    "with open('visit_log.csv', 'r') as log, codecs.open('funnel.csv', 'w', \"utf_8_sig\") as f:\n",
    "\n",
    "    for line in log:\n",
    "        user_id = line.strip().split(',')[0]\n",
    "        if user_id in purchases.keys():\n",
    "            str_ = f'{line.strip()},{purchases[user_id]}\\n'\n",
    "            f.write(str_)"
   ]
  }
 ],
 "metadata": {
  "kernelspec": {
   "display_name": "Python 3",
   "language": "python",
   "name": "python3"
  },
  "language_info": {
   "codemirror_mode": {
    "name": "ipython",
    "version": 3
   },
   "file_extension": ".py",
   "mimetype": "text/x-python",
   "name": "python",
   "nbconvert_exporter": "python",
   "pygments_lexer": "ipython3",
   "version": "3.7.3"
  }
 },
 "nbformat": 4,
 "nbformat_minor": 2
}
